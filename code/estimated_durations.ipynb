{
 "cells": [
  {
   "cell_type": "code",
   "execution_count": 21,
   "id": "fccd6f17-494e-4445-b25a-0f40aa3ae72b",
   "metadata": {},
   "outputs": [
    {
     "name": "stdout",
     "output_type": "stream",
     "text": [
      "✅ 處理完成，共花費 222 分 33 秒\n"
     ]
    }
   ],
   "source": [
    "import pandas as pd\n",
    "import requests\n",
    "import time\n",
    "\n",
    "# 填入自己的 Mapbox Access Token\n",
    "MAPBOX_TOKEN = \"(輸入gimini api)\"\n",
    "\n",
    "# 讀取原始資料\n",
    "df = pd.read_csv(\"/Users/wanghao/Downloads/zomato_with_delayed_label.csv\")\n",
    "\n",
    "\n",
    "# 準備儲存每筆預估時間（分鐘）\n",
    "estimated_durations = []\n",
    "\n",
    "# 記錄執行開始時間\n",
    "start_time = time.time()\n",
    "\n",
    "# 遍歷每一筆資料，查詢 Directions API\n",
    "for idx, row in df.iterrows():\n",
    "    start_lon = row[\"Restaurant_longitude\"]\n",
    "    start_lat = row[\"Restaurant_latitude\"]\n",
    "    end_lon = row[\"Delivery_location_longitude\"]\n",
    "    end_lat = row[\"Delivery_location_latitude\"]\n",
    "\n",
    "    url = f\"https://api.mapbox.com/directions/v5/mapbox/driving/{start_lon},{start_lat};{end_lon},{end_lat}\"\n",
    "    params = {\n",
    "        \"access_token\": MAPBOX_TOKEN,\n",
    "        \"overview\": \"simplified\"\n",
    "    }\n",
    "\n",
    "    try:\n",
    "        res = requests.get(url, params=params)\n",
    "        data = res.json()\n",
    "\n",
    "        if \"routes\" in data and len(data[\"routes\"]) > 0:\n",
    "            duration = round(data[\"routes\"][0][\"duration\"] / 60)  # 秒 → 分鐘\n",
    "        else:\n",
    "            print(f\"❗ 第 {idx} 筆查無路線\")\n",
    "            duration = None\n",
    "\n",
    "    except Exception as e:\n",
    "        print(f\"⚠️ 錯誤發生在第 {idx} 筆：{e}\")\n",
    "        duration = None\n",
    "\n",
    "    estimated_durations.append(duration)\n",
    "    time.sleep(0.2)  # 避免觸發 API 限速\n",
    "\n",
    "# 加回到原始資料\n",
    "df[\"Estimated_duration_minutes\"] = estimated_durations\n",
    "\n",
    "# 儲存為新 CSV 檔案\n",
    "df.to_csv(\"zomato_with_estimated_durations.csv\", index=False)\n",
    "\n",
    "# 顯示總耗時\n",
    "end_time = time.time()\n",
    "total_sec = int(end_time - start_time)\n",
    "print(f\"✅ 處理完成，共花費 {total_sec // 60} 分 {total_sec % 60} 秒\")\n"
   ]
  }
 ],
 "metadata": {
  "kernelspec": {
   "display_name": "Python 3 (ipykernel)",
   "language": "python",
   "name": "python3"
  },
  "language_info": {
   "codemirror_mode": {
    "name": "ipython",
    "version": 3
   },
   "file_extension": ".py",
   "mimetype": "text/x-python",
   "name": "python",
   "nbconvert_exporter": "python",
   "pygments_lexer": "ipython3",
   "version": "3.12.9"
  }
 },
 "nbformat": 4,
 "nbformat_minor": 5
}
